{
 "cells": [
  {
   "cell_type": "code",
   "execution_count": 95,
   "id": "1725762f-5df3-423e-a4c1-f65a8b654a08",
   "metadata": {},
   "outputs": [
    {
     "name": "stdout",
     "output_type": "stream",
     "text": [
      "Help on class Molecule in module pennylane.qchem.molecule:\n",
      "\n",
      "class Molecule(builtins.object)\n",
      " |  Molecule(symbols, coordinates, charge=0, mult=1, basis_name='sto-3g', name='molecule', load_data=False, l=None, alpha=None, coeff=None, normalize=True, unit='bohr')\n",
      " |  \n",
      " |  Create a molecule object that stores molecular information and default basis set parameters.\n",
      " |  \n",
      " |  The molecule object can be passed to functions that perform a Hartree-Fock calculation.\n",
      " |  \n",
      " |  Args:\n",
      " |      symbols (list[str]): Symbols of the atomic species in the molecule. Currently, atoms with\n",
      " |          atomic numbers 1-10 are supported.\n",
      " |      coordinates (array[float]): 1D array with the atomic positions in Cartesian coordinates. The\n",
      " |          coordinates must be given in atomic units and the size of the array should be ``3*N``\n",
      " |          where ``N`` is the number of atoms.\n",
      " |      charge (int): net charge of the molecule\n",
      " |      mult (int): Spin multiplicity :math:`\\mathrm{mult}=N_\\mathrm{unpaired} + 1` for\n",
      " |          :math:`N_\\mathrm{unpaired}` unpaired electrons occupying the HF orbitals.\n",
      " |      basis_name (str): Atomic basis set used to represent the molecular orbitals. Currently, the\n",
      " |          only supported basis sets are ``STO-3G``, ``6-31G``, ``6-311G`` and ``CC-PVDZ``. Other\n",
      " |          basis sets can be loaded from the basis-set-exchange library using ``load_data``.\n",
      " |      load_data (bool): flag to load data from the basis-set-exchange library\n",
      " |      l (tuple[int]): angular momentum quantum numbers of the basis function\n",
      " |      alpha (array[float]): exponents of the primitive Gaussian functions\n",
      " |      coeff (array[float]): coefficients of the contracted Gaussian functions\n",
      " |      r (array[float]): positions of the Gaussian functions\n",
      " |      normalize (bool): if True, the basis functions get normalized\n",
      " |      unit (str): unit of atomic coordinates. Available options are ``unit=\"bohr\"`` and ``unit=\"angstrom\"``.\n",
      " |  \n",
      " |  **Example**\n",
      " |  \n",
      " |  >>> symbols  = ['H', 'H']\n",
      " |  >>> geometry = np.array([[0.0, 0.0, -0.694349],\n",
      " |  >>>                      [0.0, 0.0,  0.694349]], requires_grad = True)\n",
      " |  >>> mol = Molecule(symbols, geometry)\n",
      " |  >>> print(mol.n_electrons)\n",
      " |  2\n",
      " |  \n",
      " |  Methods defined here:\n",
      " |  \n",
      " |  __init__(self, symbols, coordinates, charge=0, mult=1, basis_name='sto-3g', name='molecule', load_data=False, l=None, alpha=None, coeff=None, normalize=True, unit='bohr')\n",
      " |      Initialize self.  See help(type(self)) for accurate signature.\n",
      " |  \n",
      " |  __repr__(self)\n",
      " |      Returns the molecule representation in string format\n",
      " |  \n",
      " |  atomic_orbital(self, index)\n",
      " |      Return a function that evaluates an atomic orbital at a given position.\n",
      " |      \n",
      " |      Args:\n",
      " |          index (int): index of the atomic orbital, order follwos the order of atomic symbols\n",
      " |      \n",
      " |      Returns:\n",
      " |          function: function that computes the value of the orbital at a given position\n",
      " |      \n",
      " |      **Example**\n",
      " |      \n",
      " |      >>> symbols  = ['H', 'H']\n",
      " |      >>> geometry = np.array([[0.0, 0.0, 0.0], [0.0, 0.0, 1.0]], requires_grad = False)\n",
      " |      >>> mol = qml.qchem.Molecule(symbols, geometry)\n",
      " |      >>> ao = mol.atomic_orbital(0)\n",
      " |      >>> ao(0.0, 0.0, 0.0)\n",
      " |      0.62824688\n",
      " |  \n",
      " |  molecular_orbital(self, index)\n",
      " |      Return a function that evaluates a molecular orbital at a given position.\n",
      " |      \n",
      " |      Args:\n",
      " |          index (int): index of the molecular orbital\n",
      " |      \n",
      " |      Returns:\n",
      " |          function: function to evaluate the molecular orbital\n",
      " |      \n",
      " |      **Example**\n",
      " |      \n",
      " |      >>> symbols  = ['H', 'H']\n",
      " |      >>> geometry = np.array([[0.0, 0.0, 0.0], [0.0, 0.0, 1.0]], requires_grad = False)\n",
      " |      >>> mol = qml.qchem.Molecule(symbols, geometry)\n",
      " |      >>> qml.qchem.scf(mol)() # run scf to obtain the optimized molecular orbitals\n",
      " |      >>> mo = mol.molecular_orbital(1)\n",
      " |      >>> mo(0.0, 0.0, 0.0)\n",
      " |      0.01825128\n",
      " |  \n",
      " |  ----------------------------------------------------------------------\n",
      " |  Data descriptors defined here:\n",
      " |  \n",
      " |  __dict__\n",
      " |      dictionary for instance variables (if defined)\n",
      " |  \n",
      " |  __weakref__\n",
      " |      list of weak references to the object (if defined)\n",
      "\n"
     ]
    }
   ],
   "source": [
    "help(qml.qchem.Molecule)"
   ]
  },
  {
   "cell_type": "code",
   "execution_count": 109,
   "id": "ca838649-afc4-435b-bf9a-5ece34314c87",
   "metadata": {},
   "outputs": [],
   "source": [
    "from jax import numpy as np\n",
    "import jax\n",
    "jax.config.update(\"jax_platform_name\", \"cpu\")\n",
    "jax.config.update('jax_enable_x64', True)\n",
    "symbols = [\"He\", \"H\"]\n",
    "coordinates = np.array([[0.0, 0.0, 0.0], [0.0, 0.0, 0.9]])# coordinates of both Helium and Hydrogen nuclie\n",
    "charge = 1\n",
    "# so basically we are going to find ground state of Helim-Hydride using Variational method (VQE) "
   ]
  },
  {
   "cell_type": "code",
   "execution_count": 110,
   "id": "632ac8d2-bee3-4e02-b061-9164311665d4",
   "metadata": {},
   "outputs": [
    {
     "name": "stdout",
     "output_type": "stream",
     "text": [
      "Number of qubits =  4\n",
      "The Hamiltonian is  -0.7649658352667643 * I(0) + 0.8612517144559696 * Z(0) + 0.03811122174621449 * (Y(0) @ Z(1) @ Y(2)) + 0.03811122174621449 * (X(0) @ Z(1) @ X(2)) + 0.07406212203795781 * Z(2) + 0.14944746147022825 * (Z(0) @ Z(2)) + 0.8612517144559694 * Z(1) + 0.24408144381862154 * (Z(0) @ Z(1)) + 0.04338564606277569 * (Y(0) @ Y(2)) + 0.04338564606277569 * (X(0) @ X(2)) + 0.038111221746214494 * (Y(1) @ Z(2) @ Y(3)) + 0.04338564606277569 * (Z(0) @ Y(1) @ Z(2) @ Y(3)) + 0.038111221746214494 * (X(1) @ Z(2) @ X(3)) + 0.04338564606277569 * (Z(0) @ X(1) @ Z(2) @ X(3)) + 0.0415685604611815 * (Y(0) @ X(1) @ X(2) @ Y(3)) + -0.0415685604611815 * (Y(0) @ Y(1) @ X(2) @ X(3)) + -0.0415685604611815 * (X(0) @ X(1) @ Y(2) @ Y(3)) + 0.0415685604611815 * (X(0) @ Y(1) @ Y(2) @ X(3)) + 0.07406212203795781 * Z(3) + 0.19101602193140976 * (Z(0) @ Z(3)) + 0.005274424194929801 * (Y(0) @ Z(1) @ Y(2) @ Z(3)) + 0.005274424194929801 * (X(0) @ Z(1) @ X(2) @ Z(3)) + 0.14944746147022825 * (Z(1) @ Z(3)) + 0.19101602193140976 * (Z(1) @ Z(2)) + 0.005274424194929801 * (Y(1) @ Y(3)) + 0.005274424194929801 * (X(1) @ X(3)) + 0.1915519738792344 * (Z(2) @ Z(3))\n",
      "<Molecule = HHe, Charge: 1, Basis: STO-3G, Orbitals: 2, Electrons: 2>\n"
     ]
    }
   ],
   "source": [
    "import pennylane as qml\n",
    "\n",
    "molecule = qml.qchem.Molecule(symbols, coordinates, charge)\n",
    "H, qubits = qml.qchem.molecular_hamiltonian(molecule)\n",
    "print(\"Number of qubits = \", qubits)\n",
    "print(\"The Hamiltonian is \", H) # here we assume atoms having only two state i.e. ground and excited state hence we can represent it as 4 cross 4 Hamiltonian. \n",
    "print(molecule)"
   ]
  },
  {
   "cell_type": "code",
   "execution_count": 111,
   "id": "364314d5-6e01-40d7-be7a-ae0fc8f3db24",
   "metadata": {},
   "outputs": [],
   "source": [
    "# pip install aiohttp fsspec h5py"
   ]
  },
  {
   "cell_type": "code",
   "execution_count": 112,
   "id": "11e5a28d-75c4-4675-baeb-a39258a1695d",
   "metadata": {},
   "outputs": [],
   "source": [
    "#help(qml.data.load)"
   ]
  },
  {
   "cell_type": "code",
   "execution_count": 113,
   "id": "4d9c66fc-3641-4255-aa00-b19b0e9712fb",
   "metadata": {},
   "outputs": [],
   "source": [
    "dataset = qml.data.load('qchem', molname=\"HeH+\")[0] # this is the data we are going to use for our model\n",
    "H, qubits = dataset.hamiltonian, len(dataset.hamiltonian.wires)\n",
    "#print(H, qubits)"
   ]
  },
  {
   "cell_type": "code",
   "execution_count": 114,
   "id": "3540c2cb-8866-46cc-abb7-3859c8de400b",
   "metadata": {},
   "outputs": [],
   "source": [
    "dev = qml.device(\"default.qubit\", wires=qubits)"
   ]
  },
  {
   "cell_type": "code",
   "execution_count": 115,
   "id": "5bd40e40-6472-4f57-aa7b-c91f8ed0891b",
   "metadata": {},
   "outputs": [
    {
     "name": "stdout",
     "output_type": "stream",
     "text": [
      "[1 1 0 0]\n"
     ]
    }
   ],
   "source": [
    "electrons = 2\n",
    "hf = qml.qchem.hf_state(electrons, qubits)\n",
    "print(hf)"
   ]
  },
  {
   "cell_type": "code",
   "execution_count": 116,
   "id": "80cc7405-ff4a-429a-83f1-a7f9e3f74ad6",
   "metadata": {},
   "outputs": [],
   "source": [
    "# so using QPU we will first caculate the expectation value of Hamiltonian and then later on we optimize(in our case minimize) <H>=<psi|h|psi>/<psi|psi>\n",
    "@qml.qnode(dev)\n",
    "def circuit(param, wires):\n",
    "    qml.BasisState(hf, wires=wires)\n",
    "    qml.DoubleExcitation(param, wires=[0, 1, 2, 3])\n",
    "    return qml.expval(H)"
   ]
  },
  {
   "cell_type": "code",
   "execution_count": 117,
   "id": "d7fb9c62-9817-4d1e-93bb-b74d1084bfdf",
   "metadata": {},
   "outputs": [],
   "source": [
    "def cost_fn(param):\n",
    "    return circuit(param, wires=range(qubits)) "
   ]
  },
  {
   "cell_type": "code",
   "execution_count": 118,
   "id": "e6cdedb6-e221-4d27-a43c-b7c2c4f0a713",
   "metadata": {},
   "outputs": [],
   "source": [
    "import optax\n",
    "\n",
    "max_iterations = 100\n",
    "conv_tol = 1e-15\n",
    "\n",
    "opt = optax.sgd(learning_rate=0.5) "
   ]
  },
  {
   "cell_type": "code",
   "execution_count": 119,
   "id": "b3ccef29-45ba-4ce9-bb8d-6d6c62279b66",
   "metadata": {},
   "outputs": [],
   "source": [
    "# !pip install optax"
   ]
  },
  {
   "cell_type": "code",
   "execution_count": 120,
   "id": "0ce48ed0-644c-414e-bf8f-1677049beaa5",
   "metadata": {},
   "outputs": [
    {
     "name": "stdout",
     "output_type": "stream",
     "text": [
      "Step = 0,  Energy = -1.16303070 Ha\n",
      "Step = 2,  Energy = -2.32879352 Ha\n",
      "Step = 4,  Energy = -2.81978548 Ha\n",
      "Step = 6,  Energy = -2.85012216 Ha\n",
      "Step = 8,  Energy = -2.85118648 Ha\n",
      "Step = 10,  Energy = -2.85122259 Ha\n",
      "Step = 12,  Energy = -2.85122382 Ha\n",
      "Step = 14,  Energy = -2.85122386 Ha\n",
      "Step = 16,  Energy = -2.85122386 Ha\n",
      "Step = 18,  Energy = -2.85122386 Ha\n",
      "Step = 20,  Energy = -2.85122386 Ha\n",
      "Step = 22,  Energy = -2.85122386 Ha\n",
      "\n",
      "Final value of the ground-state energy = -2.85122386 Ha\n",
      "\n",
      "Optimal value of the circuit parameter = -12.4387\n"
     ]
    }
   ],
   "source": [
    "theta = np.array(-10.0) #theta is the array of parameters that defines the expectation value and we will find theta that will minimise <H>. \n",
    "\n",
    "# store the values of the cost function\n",
    "energy = [cost_fn(theta)]\n",
    "\n",
    "# store the values of the circuit parameter\n",
    "angle = [theta]\n",
    "\n",
    "opt_state = opt.init(theta)\n",
    "\n",
    "for n in range(max_iterations):\n",
    "\n",
    "    gradient = jax.grad(cost_fn)(theta)\n",
    "    updates, opt_state = opt.update(gradient, opt_state)\n",
    "    theta = optax.apply_updates(theta, updates)\n",
    "\n",
    "    angle.append(theta)\n",
    "    energy.append(cost_fn(theta))\n",
    "\n",
    "    conv = np.abs(energy[-1] - energy[-2]) \n",
    "    # as the the ground state energy started converging the difference will reduce and tends toward threshold conv_tol.\n",
    "\n",
    "    if n % 2 == 0:\n",
    "        print(f\"Step = {n},  Energy = {energy[-1]:.8f} Ha\")\n",
    "\n",
    "    if conv <= conv_tol:\n",
    "        break\n",
    "\n",
    "print(\"\\n\" f\"Final value of the ground-state energy = {energy[-1]:.8f} Ha\")\n",
    "print(\"\\n\" f\"Optimal value of the circuit parameter = {angle[-1]:.4f}\")"
   ]
  },
  {
   "cell_type": "code",
   "execution_count": 92,
   "id": "ace93beb-53d9-439d-8208-4a8fe2723e34",
   "metadata": {},
   "outputs": [],
   "source": [
    "# as we can see the ground state energy of H-He+ is matching with what we have in paper i.e -2.86. Finding the ground state energy using variational method"
   ]
  },
  {
   "cell_type": "code",
   "execution_count": 121,
   "id": "ac8c757d-e9fd-4d21-b843-cdaf6ce78fd5",
   "metadata": {},
   "outputs": [
    {
     "data": {
      "image/png": "[encoded data removed]",
      "text/plain": [
       "<Figure size 1200x500 with 2 Axes>"
      ]
     },
     "metadata": {},
     "output_type": "display_data"
    }
   ],
   "source": [
    "# So we have data for both parameter as well as the ground state energy, now we are going plot them and see how it is conversing.\n",
    "import matplotlib.pyplot as plt\n",
    "\n",
    "fig = plt.figure()\n",
    "fig.set_figheight(5)\n",
    "fig.set_figwidth(12)\n",
    "\n",
    "# Full configuration interaction (FCI) energy computed classically\n",
    "E_fci = -1.136189454088\n",
    "\n",
    "# Add energy plot on column 1\n",
    "ax1 = fig.add_subplot(121)\n",
    "ax1.plot(range(n + 2), energy, \"go\", ls=\"dashed\")\n",
    "ax1.plot(range(n + 2), np.full(n + 2, E_fci), color=\"red\")\n",
    "ax1.set_xlabel(\"Optimization step\", fontsize=13)\n",
    "ax1.set_ylabel(\"Energy (Hartree)\", fontsize=13)\n",
    "ax1.text(0.5, -1.1176, r\"$E_\\mathrm{HF}$\", fontsize=15)\n",
    "ax1.text(0, -1.1357, r\"$E_\\mathrm{FCI}$\", fontsize=15)\n",
    "plt.xticks(fontsize=12)\n",
    "plt.yticks(fontsize=12)\n",
    "\n",
    "# Add angle plot on column 2\n",
    "ax2 = fig.add_subplot(122)\n",
    "ax2.plot(range(n + 2), angle, \"go\", ls=\"dashed\")\n",
    "ax2.set_xlabel(\"Optimization step\", fontsize=13)\n",
    "ax2.set_ylabel(\"Gate parameter $\\\\theta$ (rad)\", fontsize=13)\n",
    "plt.xticks(fontsize=12)\n",
    "plt.yticks(fontsize=12)\n",
    "\n",
    "plt.subplots_adjust(wspace=0.3, bottom=0.2)\n",
    "plt.show()"
   ]
  },
  {
   "cell_type": "code",
   "execution_count": null,
   "id": "d38a2130-dab9-422e-bb85-d82b13acbd86",
   "metadata": {},
   "outputs": [],
   "source": []
  }
 ],
 "metadata": {
  "kernelspec": {
   "display_name": "Python 3 (ipykernel)",
   "language": "python",
   "name": "python3"
  },
  "language_info": {
   "codemirror_mode": {
    "name": "ipython",
    "version": 3
   },
   "file_extension": ".py",
   "mimetype": "text/x-python",
   "name": "python",
   "nbconvert_exporter": "python",
   "pygments_lexer": "ipython3",
   "version": "3.10.13"
  }
 },
 "nbformat": 4,
 "nbformat_minor": 5
}
